{
  "nbformat": 4,
  "nbformat_minor": 0,
  "metadata": {
    "colab": {
      "provenance": []
    },
    "kernelspec": {
      "name": "python3",
      "display_name": "Python 3"
    },
    "language_info": {
      "name": "python"
    }
  },
  "cells": [
    {
      "cell_type": "code",
      "execution_count": 19,
      "metadata": {
        "id": "jVqWsyXP6nML"
      },
      "outputs": [],
      "source": [
        "import numpy as np\n",
        "import sympy as sym"
      ]
    },
    {
      "cell_type": "code",
      "source": [
        "x=sym.Symbol(\"x\")\n",
        "roots=sym.solve((0.5*(5*(x**3)-3*x)),x)\n",
        "derivada_lagrange=sym.lambdify(x,sym.diff((0.5*(5*(x**3)-3*x)),x))\n",
        "pesos=[0,0,0]\n",
        "pesos[0]=2/((1-roots[0])*((derivada_lagrange(roots[0]))**2))\n",
        "pesos[1]=2/((1-roots[1])*((derivada_lagrange(roots[1]))**2))\n",
        "pesos[2]=2/((1-roots[2])*((derivada_lagrange(roots[2]))**2))\n",
        "pesos"
      ],
      "metadata": {
        "colab": {
          "base_uri": "https://localhost:8080/"
        },
        "id": "kUyOR6L7QJ0H",
        "outputId": "7d35a274-2f97-47f4-eeca-1f5c8a0e6cf8"
      },
      "execution_count": 27,
      "outputs": [
        {
          "output_type": "execute_result",
          "data": {
            "text/plain": [
              "[0.125224072643620, 0.888888888888889, 0.985887038467490]"
            ]
          },
          "metadata": {},
          "execution_count": 27
        }
      ]
    }
  ]
}