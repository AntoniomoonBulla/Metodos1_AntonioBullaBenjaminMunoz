{
  "nbformat": 4,
  "nbformat_minor": 0,
  "metadata": {
    "colab": {
      "provenance": []
    },
    "kernelspec": {
      "name": "python3",
      "display_name": "Python 3"
    },
    "language_info": {
      "name": "python"
    }
  },
  "cells": [
    {
      "cell_type": "code",
      "execution_count": 1,
      "metadata": {
        "id": "7YYVkteeXZ9b"
      },
      "outputs": [],
      "source": [
        "import numpy as np"
      ]
    },
    {
      "cell_type": "code",
      "source": [
        "def Volumen_semi_esfera_radio_1(R=1,n=1000):\n",
        "  f= lambda x,R: ((R-(x**2))**(0.5))\n",
        "  volumen_total=0\n",
        "  \n",
        "  x=np.linspace(-R,R,n+1)\n",
        "  y=np.linspace(-R,R,n+1)\n",
        "  grid=np.array([x,y])\n",
        "\n",
        "  area_cuadrados=(grid[0,1]-grid[0,0])*(grid[1,1]-grid[1,0])\n",
        "  volumen_n=0\n",
        "  for i in range(0,n):\n",
        "    for j in range(0,n):\n",
        "      volumen_n=area_cuadrados*(f(grid[0,i],R)+f(grid[0,i+1],R)+f(grid[1,j],R)+f(grid[1,j+1],R))/4\n",
        "      volumen_total+=volumen_n\n",
        "  return volumen_total\n",
        "\n",
        "print(Volumen_semi_esfera_radio_1())"
      ],
      "metadata": {
        "colab": {
          "base_uri": "https://localhost:8080/"
        },
        "id": "e4Po87FRY2NM",
        "outputId": "5a5a1e2b-f3dc-4768-b4ff-a3493ef1ce5f"
      },
      "execution_count": 42,
      "outputs": [
        {
          "output_type": "stream",
          "name": "stdout",
          "text": [
            "3.1414874770019883\n"
          ]
        }
      ]
    }
  ]
}