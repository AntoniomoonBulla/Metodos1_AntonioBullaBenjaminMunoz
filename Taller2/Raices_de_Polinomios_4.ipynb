{
  "nbformat": 4,
  "nbformat_minor": 0,
  "metadata": {
    "colab": {
      "provenance": []
    },
    "kernelspec": {
      "name": "python3",
      "display_name": "Python 3"
    },
    "language_info": {
      "name": "python"
    }
  },
  "cells": [
    {
      "cell_type": "code",
      "execution_count": 14,
      "metadata": {
        "colab": {
          "base_uri": "https://localhost:8080/",
          "height": 283
        },
        "id": "w6dmRIAcwKPZ",
        "outputId": "fafb7ab5-05a6-4733-ae14-3fcc378c3822"
      },
      "outputs": [
        {
          "output_type": "execute_result",
          "data": {
            "text/plain": [
              "[<matplotlib.lines.Line2D at 0x7faa714d0790>]"
            ]
          },
          "metadata": {},
          "execution_count": 14
        },
        {
          "output_type": "display_data",
          "data": {
            "text/plain": [
              "<Figure size 432x288 with 1 Axes>"
            ],
            "image/png": "[encoded data removed]"
          },
          "metadata": {
            "needs_background": "light"
          }
        }
      ],
      "source": [
        "import urllib.request\n",
        "import numpy as np\n",
        "import matplotlib.pyplot as plt\n",
        "import pandas as pd\n",
        "import sympy as sym\n",
        "\n",
        "url = 'https://raw.githubusercontent.com/asegura4488/Database/main/MetodosComputacionalesReforma/Parabolico.csv'\n",
        "filename = 'Parabolico.csv'\n",
        "urllib.request.urlretrieve(url, filename)\n",
        "Data = pd.read_csv(url)\n",
        "\n",
        "X = np.float64(Data.X)\n",
        "Y = np.float64(Data.Y)\n",
        "\n",
        "def Lagrange(x,xi,j):\n",
        "    \n",
        "    prod = 1.0\n",
        "    n = len(xi)\n",
        "    \n",
        "    for i in range(n):\n",
        "        if i != j:\n",
        "            prod *= (x - xi[i])/(xi[j]-xi[i])\n",
        "            \n",
        "    return prod\n",
        "\n",
        "def Interpolate(x,xi,yi):\n",
        "    \n",
        "    Sum = 0.\n",
        "    n = len(xi)\n",
        "    \n",
        "    for j in range(n):\n",
        "        Sum += yi[j]*Lagrange(x,xi,j)\n",
        "        \n",
        "    return Sum\n",
        "\n",
        "x = np.linspace(X[0],X[-1],100)\n",
        "y = Interpolate(x,X,Y)\n",
        "\n",
        "plt.scatter(X,Y,marker='*',color='r')\n",
        "plt.plot(x,y,color='k')"
      ]
    },
    {
      "cell_type": "code",
      "source": [
        "x = sym.Symbol('x',real=True)\n",
        "f = Interpolate(x,X,Y)\n",
        "f = sym.simplify(f)\n",
        "\n",
        "pol = sym.Poly(f)\n",
        "coeficientes = pol.coeffs()"
      ],
      "metadata": {
        "id": "7BAloByY56XL"
      },
      "execution_count": 55,
      "outputs": []
    },
    {
      "cell_type": "markdown",
      "source": [
        "$y=(tanθ)x−[\\frac{g}{2(v_0cosθ)^2}]x^2$\n",
        "\n",
        "$y=ax+bx^2$\n",
        "\n",
        "-------------------\n",
        "\n",
        "$a =(tanθ)$\n",
        "\n",
        "$θ = tan^-1 (a)$\n",
        "\n",
        "------------------\n",
        "\n",
        "$b = (\\frac{g}{2(v_0cosθ)^2})$\n",
        "\n",
        "$v_o = \\sqrt\\frac{g}{2(bcos^2θ)}$"
      ],
      "metadata": {
        "id": "hyhEc_FyHXYt"
      }
    },
    {
      "cell_type": "code",
      "source": [
        "a = coeficientes[1]\n",
        "b = coeficientes[0]\n",
        "g = -9.8\n",
        "θ = (np.arctan(float(a)))\n",
        "v_o = round(np.sqrt(g/(2*float(b)*((np.cos(θ))**2))))\n",
        "θgrados = round(np.degrees(θ))\n",
        "v_o, θgrados"
      ],
      "metadata": {
        "colab": {
          "base_uri": "https://localhost:8080/"
        },
        "id": "WSKx_CnYL5Qh",
        "outputId": "b77de238-6b64-41e4-b0a7-88838ecb4bc5"
      },
      "execution_count": 67,
      "outputs": [
        {
          "output_type": "execute_result",
          "data": {
            "text/plain": [
              "(10, 20)"
            ]
          },
          "metadata": {},
          "execution_count": 67
        }
      ]
    }
  ]
}