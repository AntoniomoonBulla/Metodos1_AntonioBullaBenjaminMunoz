{
  "nbformat": 4,
  "nbformat_minor": 0,
  "metadata": {
    "colab": {
      "provenance": []
    },
    "kernelspec": {
      "name": "python3",
      "display_name": "Python 3"
    },
    "language_info": {
      "name": "python"
    }
  },
  "cells": [
    {
      "cell_type": "code",
      "execution_count": 76,
      "metadata": {
        "id": "3p93D4NKhdkB"
      },
      "outputs": [],
      "source": [
        "import sympy as sym\n",
        "import numpy as np"
      ]
    },
    {
      "cell_type": "code",
      "source": [
        "x=sym.Symbol(\"x\")\n",
        "p_0=sym.Symbol(\"p_0\")\n",
        "p_1=sym.Symbol(\"p_1\")\n",
        "p_2=sym.Symbol(\"p_2\")\n",
        "p0=1\n",
        "p1=x\n",
        "p2=(1/2)*(3*(x**2)-1)\n",
        "\n",
        "L=p0+p1+p2\n",
        "p=x**2+5*x+3\n",
        "c_2=sym.Rational(p.coeff(x**2)/L.coeff(x**2)).limit_denominator(1000)\n",
        "c0=p-c_2*p2\n",
        "c_1=sym.Rational(p.coeff(x)/L.coeff(x)).limit_denominator(1000)\n",
        "c_0=sym.Rational(c0.as_coeff_Add()[0]).limit_denominator(1000)\n",
        "\n",
        "print(c_0*p_0+c_1*p_1+c_2*p_2)\n",
        "\n"
      ],
      "metadata": {
        "colab": {
          "base_uri": "https://localhost:8080/"
        },
        "id": "-aEz30UKt9Zy",
        "outputId": "c3b24548-532a-41d5-cc1c-5dccef20bf4d"
      },
      "execution_count": 99,
      "outputs": [
        {
          "output_type": "stream",
          "name": "stdout",
          "text": [
            "10*p_0/3 + 5*p_1 + 2*p_2/3\n"
          ]
        }
      ]
    }
  ]
}