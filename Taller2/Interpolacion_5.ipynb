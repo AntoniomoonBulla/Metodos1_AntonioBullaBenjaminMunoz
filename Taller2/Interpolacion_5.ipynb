{
  "cells": [
    {
      "cell_type": "code",
      "execution_count": 11,
      "metadata": {
        "colab": {
          "base_uri": "https://localhost:8080/",
          "height": 283
        },
        "id": "0rqw2ERRSg5_",
        "outputId": "c8684996-2548-46ab-c4d4-c4180ba19435"
      },
      "outputs": [
        {
          "data": {
            "text/plain": [
              "<matplotlib.legend.Legend at 0x7fce00ce0640>"
            ]
          },
          "execution_count": 11,
          "metadata": {},
          "output_type": "execute_result"
        },
        {
          "data": {
            "image/png": "[encoded data removed]",
            "text/plain": [
              "<Figure size 432x288 with 1 Axes>"
            ]
          },
          "metadata": {
            "needs_background": "light"
          },
          "output_type": "display_data"
        }
      ],
      "source": [
        "import urllib.request\n",
        "import numpy as np\n",
        "import matplotlib.pyplot as plt\n",
        "import pandas as pd\n",
        "\n",
        "url = 'https://raw.githubusercontent.com/asegura4488/Database/main/MetodosComputacionalesReforma/InterpolacionNewtonNoequi.csv'\n",
        "filename = 'InterpolacionNewtonNoequi.csv'\n",
        "urllib.request.urlretrieve(url, filename)\n",
        "Data = pd.read_csv(url)\n",
        "\n",
        "X = np.float64(Data.X)\n",
        "Y = np.float64(Data.Y)\n",
        "xi = np.linspace(X[0],X[-1],100)\n",
        "\n",
        "def Newton_Gregory(X, Y, xi):\n",
        "   \n",
        "    n = len(X)\n",
        "    diferencias_finitas = np.zeros((n, n))\n",
        "    for i in range(n):\n",
        "        diferencias_finitas[i][0] = Y[i]\n",
        "    for j in range(1, n):\n",
        "        for i in range(n - j):\n",
        "            diferencias_finitas[i][j] = (diferencias_finitas[i + 1][j - 1] - diferencias_finitas[i][j - 1]) / (X[i + j] - X[i])\n",
        "\n",
        "    Coeficientes = []\n",
        "    for u in xi:\n",
        "        yi = 0\n",
        "        for j in range(n):\n",
        "            prod = diferencias_finitas[0][j]\n",
        "            for i in range(j):\n",
        "                prod *= (u - X[i])\n",
        "            yi += prod\n",
        "        Coeficientes.append(yi)\n",
        "\n",
        "    return Coeficientes\n",
        "\n",
        "yj = Newton_Gregory(X,Y,xi)\n",
        "\n",
        "plt.scatter(X,Y,color='r',marker='*', label = \"Data\")\n",
        "plt.plot(xi,yj, label = \"Interpolación\")\n",
        "plt.legend(loc = \"upper left\")"
      ]
    }
  ],
  "metadata": {
    "colab": {
      "provenance": []
    },
    "kernelspec": {
      "display_name": "Python 3",
      "name": "python3"
    },
    "language_info": {
      "name": "python"
    }
  },
  "nbformat": 4,
  "nbformat_minor": 0
}
