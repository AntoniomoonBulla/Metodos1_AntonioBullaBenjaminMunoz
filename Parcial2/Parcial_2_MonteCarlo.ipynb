{
  "nbformat": 4,
  "nbformat_minor": 0,
  "metadata": {
    "colab": {
      "provenance": []
    },
    "kernelspec": {
      "name": "python3",
      "display_name": "Python 3"
    },
    "language_info": {
      "name": "python"
    }
  },
  "cells": [
    {
      "cell_type": "code",
      "execution_count": null,
      "metadata": {
        "colab": {
          "base_uri": "https://localhost:8080/",
          "height": 53
        },
        "id": "X2muWqEGmGuV",
        "outputId": "df841196-b07a-427a-b271-42ad45001a57"
      },
      "outputs": [
        {
          "output_type": "stream",
          "name": "stderr",
          "text": [
            "100%|██████████| 100000/100000 [00:01<00:00, 61513.36it/s]\n"
          ]
        },
        {
          "output_type": "stream",
          "name": "stdout",
          "text": [
            "(0.4009321075469034, 0.40006561111925387, 0.40077549306378457)\n"
          ]
        }
      ],
      "source": [
        "import matplotlib.pyplot as plt\n",
        "import numpy as np\n",
        "from mpl_toolkits.mplot3d import axes3d\n",
        "from scipy import integrate\n",
        "from tqdm import tqdm\n",
        "\n",
        "\n",
        "N = 100000\n",
        "\n",
        "x = np.random.rand(100000)*2 - 1\n",
        "y = np.random.rand(100000)*2 - 1\n",
        "z = np.random.rand(100000)*2 - 1\n",
        "\n",
        "def CreateSphere(N,R=1):\n",
        "    \n",
        "    Points = np.zeros((N,3))\n",
        "        \n",
        "    for i in tqdm(range(N)):\n",
        "        \n",
        "        phi = np.random.uniform(0,2*np.pi)\n",
        "        u = np.random.rand()\n",
        "        r = R*u**(1/3)\n",
        "        costheta = np.random.uniform(-1,1)\n",
        "        theta = np.arccos(costheta)\n",
        "        \n",
        "        Points[i] = [r*np.cos(phi)*np.sin(theta),r*np.sin(phi)*np.sin(theta),r*np.cos(theta)]\n",
        "        \n",
        "    return Points\n",
        "\n",
        "Sphere = CreateSphere(N)\n",
        "\n",
        "def GetMomentosInercia(Sphere):\n",
        "\n",
        "  Ixx = 0\n",
        "  Iyy = 0\n",
        "  Izz = 0\n",
        "\n",
        "  for i in range(N):\n",
        "    Ixx += 1/N * (((Sphere[i][1])**2) + ((Sphere[i][2])**2))\n",
        "    Iyy += 1/N * (((Sphere[i][0])**2) + ((Sphere[i][2])**2))\n",
        "    Izz += 1/N * (((Sphere[i][0])**2) + ((Sphere[i][1])**2))\n",
        "  \n",
        "  return(Ixx,Iyy,Izz)\n",
        "\n",
        "def GetMomentosInercia_IJ(Sphere, i, j):\n",
        "\n",
        "  Iij = 1/N * ((x[i]**2) + ((y[j]**2))\n",
        " \n",
        "   \n",
        "  return(Ixx,Iyy,Izz)\n",
        "print(GetMomentosInercia(Sphere))\n",
        "\n",
        "\n",
        "\n"
      ]
    }
  ]
}