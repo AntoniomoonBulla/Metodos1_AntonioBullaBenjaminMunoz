{
  "nbformat": 4,
  "nbformat_minor": 0,
  "metadata": {
    "colab": {
      "provenance": []
    },
    "kernelspec": {
      "name": "python3",
      "display_name": "Python 3"
    },
    "language_info": {
      "name": "python"
    }
  },
  "cells": [
    {
      "cell_type": "code",
      "execution_count": 6,
      "metadata": {
        "id": "NJ6--ZnsH_JV",
        "colab": {
          "base_uri": "https://localhost:8080/"
        },
        "outputId": "c724c063-a3a4-459b-bd87-f46ee3ad4a67"
      },
      "outputs": [
        {
          "output_type": "stream",
          "name": "stderr",
          "text": [
            "100%|██████████| 1000000/1000000 [00:05<00:00, 174225.65it/s]\n"
          ]
        },
        {
          "output_type": "execute_result",
          "data": {
            "text/plain": [
              "0.20018045725291722"
            ]
          },
          "metadata": {},
          "execution_count": 6
        }
      ],
      "source": [
        "import numpy as np\n",
        "from tqdm import tqdm\n",
        "\n",
        "N = int(1e6)\n",
        "θ = 2\n",
        "n = 20\n",
        "puntos = np.zeros([N,n])\n",
        "\n",
        "for i in tqdm(range(N)):\n",
        "  puntos[i] = (np.random.exponential(θ,n))\n",
        "Promedio = np.mean(puntos, axis=1)\n",
        "var_ = np.var(Promedio, ddof=1)\n",
        "\n",
        "var_"
      ]
    },
    {
      "cell_type": "code",
      "source": [
        "print(θ**2/n)"
      ],
      "metadata": {
        "colab": {
          "base_uri": "https://localhost:8080/"
        },
        "id": "602dXb6xdj03",
        "outputId": "932d5424-31a2-4e89-b1a5-0e85a5bbe1c2"
      },
      "execution_count": 7,
      "outputs": [
        {
          "output_type": "stream",
          "name": "stdout",
          "text": [
            "0.2\n"
          ]
        }
      ]
    }
  ]
}