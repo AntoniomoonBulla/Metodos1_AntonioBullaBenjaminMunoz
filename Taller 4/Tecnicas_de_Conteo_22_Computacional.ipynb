{
  "nbformat": 4,
  "nbformat_minor": 0,
  "metadata": {
    "colab": {
      "provenance": []
    },
    "kernelspec": {
      "name": "python3",
      "display_name": "Python 3"
    },
    "language_info": {
      "name": "python"
    }
  },
  "cells": [
    {
      "cell_type": "code",
      "execution_count": 1,
      "metadata": {
        "colab": {
          "base_uri": "https://localhost:8080/"
        },
        "id": "o1Ie2Hwzzg6m",
        "outputId": "5f3c0538-baa3-4c8d-d667-e172d27ef47c"
      },
      "outputs": [
        {
          "output_type": "stream",
          "name": "stdout",
          "text": [
            "66\n"
          ]
        }
      ],
      "source": [
        "count=0\n",
        "for i in range(0,11):\n",
        "  for j in range(0,11):\n",
        "    for k in range(0,11):\n",
        "      if i+j+k==10:\n",
        "        count+=1\n",
        "print(count)       "
      ]
    }
  ]
}