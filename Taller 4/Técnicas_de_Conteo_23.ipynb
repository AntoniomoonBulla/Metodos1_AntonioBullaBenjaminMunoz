{
  "nbformat": 4,
  "nbformat_minor": 0,
  "metadata": {
    "colab": {
      "provenance": []
    },
    "kernelspec": {
      "name": "python3",
      "display_name": "Python 3"
    },
    "language_info": {
      "name": "python"
    }
  },
  "cells": [
    {
      "cell_type": "code",
      "execution_count": null,
      "metadata": {
        "id": "Z4R6JaDsanmU"
      },
      "outputs": [],
      "source": [
        "import numpy as np"
      ]
    },
    {
      "cell_type": "markdown",
      "source": [
        "Aplicando la forma de combinatoria:\n",
        "\n",
        "$_n C_r = \\frac{n!}{(n-r)!r!} $"
      ],
      "metadata": {
        "id": "ed_WzsEM0ZOa"
      }
    },
    {
      "cell_type": "code",
      "source": [
        "n = 4 #Número de llaves\n",
        "r = 3 #Colores\n",
        "def Combinatoria(r,n):\n",
        "  return np.math.factorial(n)/((np.math.factorial(r))*np.math.factorial(n-r))\n",
        "\n",
        "total = 3*Combinatoria(r,n) #Formas x probabilidad\n",
        "total"
      ],
      "metadata": {
        "colab": {
          "base_uri": "https://localhost:8080/"
        },
        "id": "G-Zvkigg0ykm",
        "outputId": "0bdefe4b-ae61-4bd8-9c95-10fb5ab157ed"
      },
      "execution_count": null,
      "outputs": [
        {
          "output_type": "execute_result",
          "data": {
            "text/plain": [
              "12.0"
            ]
          },
          "metadata": {},
          "execution_count": 6
        }
      ]
    }
  ]
}