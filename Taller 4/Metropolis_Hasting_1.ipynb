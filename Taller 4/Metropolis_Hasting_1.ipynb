{
  "nbformat": 4,
  "nbformat_minor": 0,
  "metadata": {
    "colab": {
      "provenance": []
    },
    "kernelspec": {
      "name": "python3",
      "display_name": "Python 3"
    },
    "language_info": {
      "name": "python"
    }
  },
  "cells": [
    {
      "cell_type": "code",
      "execution_count": 33,
      "metadata": {
        "colab": {
          "base_uri": "https://localhost:8080/"
        },
        "id": "NtHtQXyoGJ84",
        "outputId": "341bd4d9-6073-47b3-90b1-13835f69d957"
      },
      "outputs": [
        {
          "output_type": "stream",
          "name": "stderr",
          "text": [
            "100%|██████████| 9999/9999 [00:02<00:00, 3712.95it/s]\n"
          ]
        },
        {
          "output_type": "execute_result",
          "data": {
            "text/plain": [
              "3539"
            ]
          },
          "metadata": {},
          "execution_count": 33
        }
      ],
      "source": [
        "import numpy as np\n",
        "from tqdm import tqdm\n",
        "\n",
        "n = 10\n",
        "r = 7\n",
        "p = 0.5\n",
        "\n",
        "def Prior(p):\n",
        "    return np.piecewise( p, [p>= 0 and p <= 1, p<0 and p > 1], [lambda p: 1, lambda p:0])\n",
        "\n",
        "Prior = np.vectorize(Prior)\n",
        "Prior(p)\n",
        "\n",
        "def Likelihood(p,r,n):\n",
        "    return p**r*(1-p)**(n-r)\n",
        "\n",
        "def Posterior(p,r,n):\n",
        "    return Likelihood(p,r,n)*Prior(p)\n",
        "\n",
        "def Metropolis(x0, Posterior, NSteps=int(1e4), delta= 0.4):\n",
        "    x = np.zeros((NSteps,1))\n",
        "    x[0] = x0\n",
        "    \n",
        "    for i in tqdm(range(1,NSteps)):\n",
        "        P0 = Posterior(x[i-1],r,n)\n",
        "        xf = x[i-1] + delta*2*(np.random.rand()-0.5)\n",
        "        P1 = Posterior(xf,r,n)\n",
        "        alpha = np.minimum( 1, P1/P0 )\n",
        "        g = np.random.rand()\n",
        "      \n",
        "        if alpha > g:\n",
        "            x[i,0] = xf\n",
        "        else:\n",
        "            x[i,:] = x[i-1,:]\n",
        "            \n",
        "    return x[1000:,:]\n",
        "\n",
        "initparams = np.array([0.2])\n",
        "MCMC = Metropolis(initparams,Posterior)\n",
        "maximo = np.argmax(MCMC)\n",
        "maximo"
      ]
    },
    {
      "cell_type": "code",
      "source": [
        "quantil = np.percentile(MCMC, [16, 84])\n",
        "quantil"
      ],
      "metadata": {
        "colab": {
          "base_uri": "https://localhost:8080/"
        },
        "id": "m8tXedVTXLJp",
        "outputId": "2b72b350-1758-41ec-9d0d-941fab52b17e"
      },
      "execution_count": 34,
      "outputs": [
        {
          "output_type": "execute_result",
          "data": {
            "text/plain": [
              "array([0.53189371, 0.79945479])"
            ]
          },
          "metadata": {},
          "execution_count": 34
        }
      ]
    },
    {
      "cell_type": "code",
      "source": [
        "promedio = np.mean(MCMC)\n",
        "modelo = promedio - 0.5\n",
        "modelo"
      ],
      "metadata": {
        "colab": {
          "base_uri": "https://localhost:8080/"
        },
        "id": "wQBfpcsVYYiI",
        "outputId": "d2f43708-b6f0-4657-f148-33229eeae42c"
      },
      "execution_count": 37,
      "outputs": [
        {
          "output_type": "execute_result",
          "data": {
            "text/plain": [
              "0.16580953178821622"
            ]
          },
          "metadata": {},
          "execution_count": 37
        }
      ]
    },
    {
      "cell_type": "markdown",
      "source": [
        "La moneda está trucada"
      ],
      "metadata": {
        "id": "-vUq_TKzYpyT"
      }
    }
  ]
}