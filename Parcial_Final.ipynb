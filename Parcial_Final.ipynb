{
  "nbformat": 4,
  "nbformat_minor": 0,
  "metadata": {
    "colab": {
      "provenance": []
    },
    "kernelspec": {
      "name": "python3",
      "display_name": "Python 3"
    },
    "language_info": {
      "name": "python"
    }
  },
  "cells": [
    {
      "cell_type": "code",
      "execution_count": null,
      "metadata": {
        "id": "srn-w346x3j-"
      },
      "outputs": [],
      "source": [
        "import urllib.request\n",
        "import numpy as np\n",
        "import matplotlib.pyplot as plt\n",
        "import pandas as pd\n",
        "import scipy.optimize as spo\n",
        "from tqdm import tqdm\n",
        "from scipy.stats import expon\n",
        "from tabulate import tabulate\n",
        "url = 'https://raw.githubusercontent.com/asegura4488/Database/main/MetodosComputacionalesReforma/DataRotacion.csv'\n",
        "filename = 'DataRotacion.csv'\n",
        "urllib.request.urlretrieve(url, filename)\n",
        "Data = pd.read_csv(url)"
      ]
    },
    {
      "cell_type": "code",
      "source": [
        "datos = Data[Data['angle']== 30]\n",
        "datos"
      ],
      "metadata": {
        "colab": {
          "base_uri": "https://localhost:8080/",
          "height": 359
        },
        "id": "LO4x6_S_BnZk",
        "outputId": "8a2591a5-bbf7-4507-9bf2-ec77634163d0"
      },
      "execution_count": null,
      "outputs": [
        {
          "output_type": "execute_result",
          "data": {
            "text/plain": [
              "        h  angle       y  sigmay\n",
              "20   10.0   30.0  0.0013  0.0015\n",
              "21   20.0   30.0  0.0017  0.0015\n",
              "22   30.0   30.0  0.0038  0.0015\n",
              "23   40.0   30.0  0.0059  0.0015\n",
              "24   50.0   30.0  0.0067  0.0015\n",
              "25   60.0   30.0  0.0094  0.0015\n",
              "26   70.0   30.0  0.0122  0.0015\n",
              "27   80.0   30.0  0.0132  0.0015\n",
              "28   90.0   30.0  0.0151  0.0015\n",
              "29  100.0   30.0  0.0186  0.0015"
            ],
            "text/html": [
              "\n",
              "  <div id=\"df-ad2125a0-8e35-4dbc-8869-194dc4a1ef3c\">\n",
              "    <div class=\"colab-df-container\">\n",
              "      <div>\n",
              "<style scoped>\n",
              "    .dataframe tbody tr th:only-of-type {\n",
              "        vertical-align: middle;\n",
              "    }\n",
              "\n",
              "    .dataframe tbody tr th {\n",
              "        vertical-align: top;\n",
              "    }\n",
              "\n",
              "    .dataframe thead th {\n",
              "        text-align: right;\n",
              "    }\n",
              "</style>\n",
              "<table border=\"1\" class=\"dataframe\">\n",
              "  <thead>\n",
              "    <tr style=\"text-align: right;\">\n",
              "      <th></th>\n",
              "      <th>h</th>\n",
              "      <th>angle</th>\n",
              "      <th>y</th>\n",
              "      <th>sigmay</th>\n",
              "    </tr>\n",
              "  </thead>\n",
              "  <tbody>\n",
              "    <tr>\n",
              "      <th>20</th>\n",
              "      <td>10.0</td>\n",
              "      <td>30.0</td>\n",
              "      <td>0.0013</td>\n",
              "      <td>0.0015</td>\n",
              "    </tr>\n",
              "    <tr>\n",
              "      <th>21</th>\n",
              "      <td>20.0</td>\n",
              "      <td>30.0</td>\n",
              "      <td>0.0017</td>\n",
              "      <td>0.0015</td>\n",
              "    </tr>\n",
              "    <tr>\n",
              "      <th>22</th>\n",
              "      <td>30.0</td>\n",
              "      <td>30.0</td>\n",
              "      <td>0.0038</td>\n",
              "      <td>0.0015</td>\n",
              "    </tr>\n",
              "    <tr>\n",
              "      <th>23</th>\n",
              "      <td>40.0</td>\n",
              "      <td>30.0</td>\n",
              "      <td>0.0059</td>\n",
              "      <td>0.0015</td>\n",
              "    </tr>\n",
              "    <tr>\n",
              "      <th>24</th>\n",
              "      <td>50.0</td>\n",
              "      <td>30.0</td>\n",
              "      <td>0.0067</td>\n",
              "      <td>0.0015</td>\n",
              "    </tr>\n",
              "    <tr>\n",
              "      <th>25</th>\n",
              "      <td>60.0</td>\n",
              "      <td>30.0</td>\n",
              "      <td>0.0094</td>\n",
              "      <td>0.0015</td>\n",
              "    </tr>\n",
              "    <tr>\n",
              "      <th>26</th>\n",
              "      <td>70.0</td>\n",
              "      <td>30.0</td>\n",
              "      <td>0.0122</td>\n",
              "      <td>0.0015</td>\n",
              "    </tr>\n",
              "    <tr>\n",
              "      <th>27</th>\n",
              "      <td>80.0</td>\n",
              "      <td>30.0</td>\n",
              "      <td>0.0132</td>\n",
              "      <td>0.0015</td>\n",
              "    </tr>\n",
              "    <tr>\n",
              "      <th>28</th>\n",
              "      <td>90.0</td>\n",
              "      <td>30.0</td>\n",
              "      <td>0.0151</td>\n",
              "      <td>0.0015</td>\n",
              "    </tr>\n",
              "    <tr>\n",
              "      <th>29</th>\n",
              "      <td>100.0</td>\n",
              "      <td>30.0</td>\n",
              "      <td>0.0186</td>\n",
              "      <td>0.0015</td>\n",
              "    </tr>\n",
              "  </tbody>\n",
              "</table>\n",
              "</div>\n",
              "      <button class=\"colab-df-convert\" onclick=\"convertToInteractive('df-ad2125a0-8e35-4dbc-8869-194dc4a1ef3c')\"\n",
              "              title=\"Convert this dataframe to an interactive table.\"\n",
              "              style=\"display:none;\">\n",
              "        \n",
              "  <svg xmlns=\"http://www.w3.org/2000/svg\" height=\"24px\"viewBox=\"0 0 24 24\"\n",
              "       width=\"24px\">\n",
              "    <path d=\"M0 0h24v24H0V0z\" fill=\"none\"/>\n",
              "    <path d=\"M18.56 5.44l.94 2.06.94-2.06 2.06-.94-2.06-.94-.94-2.06-.94 2.06-2.06.94zm-11 1L8.5 8.5l.94-2.06 2.06-.94-2.06-.94L8.5 2.5l-.94 2.06-2.06.94zm10 10l.94 2.06.94-2.06 2.06-.94-2.06-.94-.94-2.06-.94 2.06-2.06.94z\"/><path d=\"M17.41 7.96l-1.37-1.37c-.4-.4-.92-.59-1.43-.59-.52 0-1.04.2-1.43.59L10.3 9.45l-7.72 7.72c-.78.78-.78 2.05 0 2.83L4 21.41c.39.39.9.59 1.41.59.51 0 1.02-.2 1.41-.59l7.78-7.78 2.81-2.81c.8-.78.8-2.07 0-2.86zM5.41 20L4 18.59l7.72-7.72 1.47 1.35L5.41 20z\"/>\n",
              "  </svg>\n",
              "      </button>\n",
              "      \n",
              "  <style>\n",
              "    .colab-df-container {\n",
              "      display:flex;\n",
              "      flex-wrap:wrap;\n",
              "      gap: 12px;\n",
              "    }\n",
              "\n",
              "    .colab-df-convert {\n",
              "      background-color: #E8F0FE;\n",
              "      border: none;\n",
              "      border-radius: 50%;\n",
              "      cursor: pointer;\n",
              "      display: none;\n",
              "      fill: #1967D2;\n",
              "      height: 32px;\n",
              "      padding: 0 0 0 0;\n",
              "      width: 32px;\n",
              "    }\n",
              "\n",
              "    .colab-df-convert:hover {\n",
              "      background-color: #E2EBFA;\n",
              "      box-shadow: 0px 1px 2px rgba(60, 64, 67, 0.3), 0px 1px 3px 1px rgba(60, 64, 67, 0.15);\n",
              "      fill: #174EA6;\n",
              "    }\n",
              "\n",
              "    [theme=dark] .colab-df-convert {\n",
              "      background-color: #3B4455;\n",
              "      fill: #D2E3FC;\n",
              "    }\n",
              "\n",
              "    [theme=dark] .colab-df-convert:hover {\n",
              "      background-color: #434B5C;\n",
              "      box-shadow: 0px 1px 3px 1px rgba(0, 0, 0, 0.15);\n",
              "      filter: drop-shadow(0px 1px 2px rgba(0, 0, 0, 0.3));\n",
              "      fill: #FFFFFF;\n",
              "    }\n",
              "  </style>\n",
              "\n",
              "      <script>\n",
              "        const buttonEl =\n",
              "          document.querySelector('#df-ad2125a0-8e35-4dbc-8869-194dc4a1ef3c button.colab-df-convert');\n",
              "        buttonEl.style.display =\n",
              "          google.colab.kernel.accessAllowed ? 'block' : 'none';\n",
              "\n",
              "        async function convertToInteractive(key) {\n",
              "          const element = document.querySelector('#df-ad2125a0-8e35-4dbc-8869-194dc4a1ef3c');\n",
              "          const dataTable =\n",
              "            await google.colab.kernel.invokeFunction('convertToInteractive',\n",
              "                                                     [key], {});\n",
              "          if (!dataTable) return;\n",
              "\n",
              "          const docLinkHtml = 'Like what you see? Visit the ' +\n",
              "            '<a target=\"_blank\" href=https://colab.research.google.com/notebooks/data_table.ipynb>data table notebook</a>'\n",
              "            + ' to learn more about interactive tables.';\n",
              "          element.innerHTML = '';\n",
              "          dataTable['output_type'] = 'display_data';\n",
              "          await google.colab.output.renderOutput(dataTable, element);\n",
              "          const docLink = document.createElement('div');\n",
              "          docLink.innerHTML = docLinkHtml;\n",
              "          element.appendChild(docLink);\n",
              "        }\n",
              "      </script>\n",
              "    </div>\n",
              "  </div>\n",
              "  "
            ]
          },
          "metadata": {},
          "execution_count": 359
        }
      ]
    },
    {
      "cell_type": "code",
      "source": [
        "h = np.float64(datos.h)\n",
        "angle = np.float64(datos.angle)\n",
        "y = np.float64(datos.y)\n",
        "sigmay = np.float64(datos.sigmay)"
      ],
      "metadata": {
        "id": "kTOENz9dBzvC"
      },
      "execution_count": null,
      "outputs": []
    },
    {
      "cell_type": "code",
      "source": [
        "def model(h, λ, p, g = 9.81):\n",
        "  return ((2*np.sqrt(2))/3)*p*np.cos(np.deg2rad(λ))*np.sqrt((h**3)/g)"
      ],
      "metadata": {
        "id": "PgpIXBsb2GVy"
      },
      "execution_count": null,
      "outputs": []
    },
    {
      "cell_type": "code",
      "source": [],
      "metadata": {
        "id": "2u1wXRVKa2MX"
      },
      "execution_count": null,
      "outputs": []
    },
    {
      "cell_type": "code",
      "source": [
        "def x_2(p, h, y, sigmay, g = 9.81, λ = 30):\n",
        "  return np.sum((y - (model(h,λ,p,g)))**2/(2*sigmay**2))"
      ],
      "metadata": {
        "id": "mxpCLkFn6o38"
      },
      "execution_count": null,
      "outputs": []
    },
    {
      "cell_type": "code",
      "source": [
        "p = 1\n",
        "opt = lambda *p: x_2(*p)\n",
        "result = spo.minimize(opt, p, args=(h,y,sigmay),options={'disp':True})\n",
        "result.x"
      ],
      "metadata": {
        "colab": {
          "base_uri": "https://localhost:8080/"
        },
        "id": "SumNMP6PGLu7",
        "outputId": "a1989967-4734-4083-bf2f-1576006eb62e"
      },
      "execution_count": null,
      "outputs": [
        {
          "output_type": "stream",
          "name": "stdout",
          "text": [
            "Optimization terminated successfully.\n",
            "         Current function value: 1.145718\n",
            "         Iterations: 3\n",
            "         Function evaluations: 8\n",
            "         Gradient evaluations: 4\n"
          ]
        },
        {
          "output_type": "execute_result",
          "data": {
            "text/plain": [
              "array([7.24399804e-05])"
            ]
          },
          "metadata": {},
          "execution_count": 363
        }
      ]
    },
    {
      "cell_type": "code",
      "source": [
        "w = result.x\n",
        "λ = 30\n",
        "y_m = model(h,λ,w) \n",
        "\n",
        "plt.errorbar(h,y,sigmay, fmt='o')\n",
        "plt.plot(h,y_m, color = \"r\")\n",
        "plt.xlabel('h[m]') \n",
        "plt.ylabel('y[m]')"
      ],
      "metadata": {
        "colab": {
          "base_uri": "https://localhost:8080/",
          "height": 466
        },
        "id": "xdpXN21AbnQK",
        "outputId": "aa21fca3-319e-465a-8e57-ce5580b72db8"
      },
      "execution_count": null,
      "outputs": [
        {
          "output_type": "execute_result",
          "data": {
            "text/plain": [
              "Text(0, 0.5, 'y[m]')"
            ]
          },
          "metadata": {},
          "execution_count": 364
        },
        {
          "output_type": "display_data",
          "data": {
            "text/plain": [
              "<Figure size 640x480 with 1 Axes>"
            ],
            "image/png": "[encoded data removed]"
          },
          "metadata": {}
        }
      ]
    },
    {
      "cell_type": "code",
      "source": [
        "N = 300\n",
        "Gravedad = np.zeros(N)\n",
        "Omega = np.zeros(N)\n",
        "\n",
        "for i in range(N):\n",
        "  g = 9.81 + np.random.normal(loc  = 0, scale = 1)\n",
        "  Gravedad[i] = g\n",
        "  y_modificado = np.abs(y + np.random.normal( loc = 0, scale = sigmay[0], size = len(y)))\n",
        "  \n",
        "  p = np.zeros(1)\n",
        "  result = spo.minimize(opt, p, args = (h, y_modificado, sigmay, Gravedad[i], 30), options={'disp':False})\n",
        "  Omega[i] = result.x\n",
        "\n",
        "\n",
        "binsy = np.linspace(min(Gravedad),max(Gravedad),30)\n",
        "binsx = np.linspace(min(Omega),max(Omega),30)\n",
        "H2, binsx, binsy = np.histogram2d(Omega, Gravedad, bins=(binsx,binsy))\n",
        "\n",
        "plt.figure(figsize = (6,6))\n",
        "plt.imshow(H2, origin='lower', extent=[binsx[0], binsx[-1], binsy[0], binsy[-1]], aspect='auto')\n",
        "plt.show()"
      ],
      "metadata": {
        "id": "zognHVkQicw5",
        "colab": {
          "base_uri": "https://localhost:8080/",
          "height": 540
        },
        "outputId": "5f38198a-0ad6-4204-ff05-bb1974b1c3ac"
      },
      "execution_count": null,
      "outputs": [
        {
          "output_type": "display_data",
          "data": {
            "text/plain": [
              "<Figure size 600x600 with 1 Axes>"
            ],
            "image/png": "[encoded data removed]"
          },
          "metadata": {}
        }
      ]
    },
    {
      "cell_type": "code",
      "source": [
        "plt.contourf(H2, origin='lower', extent=[binsx[0], binsx[-1], binsy[0], binsy[-1]], aspect='auto')"
      ],
      "metadata": {
        "colab": {
          "base_uri": "https://localhost:8080/",
          "height": 499
        },
        "id": "60ytYGaYVQjo",
        "outputId": "0544f485-9f66-4799-8561-d4b697034f01"
      },
      "execution_count": null,
      "outputs": [
        {
          "output_type": "stream",
          "name": "stderr",
          "text": [
            "<ipython-input-366-7978ea6fb152>:1: UserWarning: The following kwargs were not used by contour: 'aspect'\n",
            "  plt.contourf(H2, origin='lower', extent=[binsx[0], binsx[-1], binsy[0], binsy[-1]], aspect='auto')\n"
          ]
        },
        {
          "output_type": "execute_result",
          "data": {
            "text/plain": [
              "<matplotlib.contour.QuadContourSet at 0x7f06d5b85870>"
            ]
          },
          "metadata": {},
          "execution_count": 366
        },
        {
          "output_type": "display_data",
          "data": {
            "text/plain": [
              "<Figure size 640x480 with 1 Axes>"
            ],
            "image/png": "[encoded data removed]"
          },
          "metadata": {}
        }
      ]
    },
    {
      "cell_type": "code",
      "source": [
        "H1 = np.sum(H2,axis=1)\n",
        "H1"
      ],
      "metadata": {
        "id": "iWNASZP82rWz",
        "outputId": "aa7c0953-97a3-47df-abf0-8ca87752d289",
        "colab": {
          "base_uri": "https://localhost:8080/"
        }
      },
      "execution_count": null,
      "outputs": [
        {
          "output_type": "execute_result",
          "data": {
            "text/plain": [
              "array([ 1.,  0.,  0.,  0.,  3.,  3.,  7.,  4.,  9.,  9., 24., 12., 19.,\n",
              "       17., 23., 26., 25., 29., 15., 20., 13.,  9., 10.,  8.,  2.,  6.,\n",
              "        0.,  1.,  5.])"
            ]
          },
          "metadata": {},
          "execution_count": 367
        }
      ]
    },
    {
      "cell_type": "code",
      "source": [
        "cs = np.cumsum(H1)\n",
        "ij = np.searchsorted( cs, np.percentile(cs,16))\n",
        "ii = np.searchsorted( cs, np.percentile(cs,50))\n",
        "ji = np.searchsorted( cs, np.percentile(cs,84))"
      ],
      "metadata": {
        "id": "1e9pzc-F5yVg"
      },
      "execution_count": null,
      "outputs": []
    },
    {
      "cell_type": "code",
      "source": [
        "lambdas=[10,20,30,40,50,60]\n",
        "\n",
        "def x_2_lambdas(p, h, y, sigmay, g, λ):\n",
        "   return np.sum((y - (model(h,λ,p,g)))**2/(2*sigmay**2))\n",
        "\n",
        "opt = lambda *p: x_2_lambdas(*p)\n",
        "\n",
        "mejores_estimadores=[]\n",
        "intervalos_confianza=[]\n",
        "sds=[]\n",
        "\n",
        "for l in lambdas:\n",
        "  datos = Data[Data['angle']==l]\n",
        "  h = np.float64(datos.h)\n",
        "  angle = np.float64(datos.angle)\n",
        "  y = np.float64(datos.y)\n",
        "  sigmay = np.float64(datos.sigmay)\n",
        "\n",
        "  y_modificado = np.abs(y + np.random.normal( loc = 0, scale = sigmay[0], size = len(y)))\n",
        "\n",
        "  for i in range(N):\n",
        "    p = np.zeros(1)\n",
        "    result = spo.minimize(opt, p, args = (h, y_modificado, sigmay, Gravedad[i], l), options={'disp':False})\n",
        "    Omega[i] = result.x \n",
        "\n",
        "  binsy = np.linspace(min(Gravedad),max(Gravedad),30)\n",
        "  binsx = np.linspace(min(Omega),max(Omega),30)\n",
        "  H2, binsx, binsy = np.histogram2d(Omega, Gravedad, bins=(binsx,binsy))\n",
        "\n",
        "  H1 = np.sum(H2,axis=1)\n",
        "\n",
        "  cs = np.cumsum(H1)\n",
        "  ij = np.searchsorted( cs, np.percentile(cs,16))\n",
        "  ii = np.searchsorted( cs, np.percentile(cs,50))\n",
        "  ji = np.searchsorted( cs, np.percentile(cs,84))\n",
        "\n",
        "  mejor_estimador=Omega[ii]\n",
        "  intervalo_confianza=[Omega[ji]*10**5,Omega[ij]*10**5]\n",
        "  sd=(np.std(sigmay))/Omega[ij]\n",
        "\n",
        "  mejores_estimadores.append(mejor_estimador*10**5)\n",
        "  intervalos_confianza.append(intervalo_confianza)\n",
        "  sds.append(sd)"
      ],
      "metadata": {
        "id": "rr9MSvK7MXdn"
      },
      "execution_count": null,
      "outputs": []
    },
    {
      "cell_type": "code",
      "source": [
        "datos = Data\n",
        "h = np.float64(datos.h)\n",
        "angle = np.float64(datos.angle)\n",
        "y = np.float64(datos.y)\n",
        "sigmay = np.float64(datos.sigmay)\n",
        "\n",
        "y_modificado = np.abs(y + np.random.normal( loc = 0, scale = sigmay[0], size = len(y)))\n",
        "\n",
        "for i in range(N):\n",
        "    p = np.zeros(1)\n",
        "    result = spo.minimize(opt, p, args = (h, y_modificado, sigmay, Gravedad[i],angle), options={'disp':False})\n",
        "    Omega[i] = result.x \n",
        "\n",
        "binsy = np.linspace(min(Gravedad),max(Gravedad),30)\n",
        "binsx = np.linspace(min(Omega),max(Omega),30)\n",
        "H2, binsx, binsy = np.histogram2d(Omega, Gravedad, bins=(binsx,binsy))\n",
        "\n",
        "H1 = np.sum(H2,axis=1)\n",
        "\n",
        "cs = np.cumsum(H1)\n",
        "ij = np.searchsorted( cs, np.percentile(cs,16))\n",
        "ii = np.searchsorted( cs, np.percentile(cs,50))\n",
        "ji = np.searchsorted( cs, np.percentile(cs,84))\n",
        "\n",
        "mejor_estimador=Omega[ii]\n",
        "intervalo_confianza=[Omega[ji]*10**5,Omega[ij]*10**5]\n",
        "sd=np.std(sigmay)/Omega[ij]\n",
        "\n",
        "mejores_estimadores.append(mejor_estimador*10**5)\n",
        "intervalos_confianza.append(intervalo_confianza)\n",
        "sds.append(sd)\n",
        "lambdas.append(\"Combined\")"
      ],
      "metadata": {
        "id": "fvBslI_raaBE"
      },
      "execution_count": null,
      "outputs": []
    },
    {
      "cell_type": "code",
      "source": [
        "d = {'l': lambdas, 'w': mejores_estimadores, 'IC':intervalos_confianza, 'o': sds}\n",
        "df2 = pd.DataFrame(d).set_index('l')\n",
        "df2"
      ],
      "metadata": {
        "id": "gIAjaMPqSNuI",
        "colab": {
          "base_uri": "https://localhost:8080/",
          "height": 297
        },
        "outputId": "6cd0df44-ed96-4471-a215-7857af4f6d2b"
      },
      "execution_count": null,
      "outputs": [
        {
          "output_type": "execute_result",
          "data": {
            "text/plain": [
              "                 w                                       IC    o\n",
              "l                                                               \n",
              "10        6.741844   [6.860006510023474, 6.881049047691177]  0.0\n",
              "20        7.144141   [7.269353282522718, 7.291651351442124]  0.0\n",
              "30        6.752101  [6.870443069934355, 6.8915176766594755]  0.0\n",
              "40        7.408118  [7.537956931481135, 7.5610787808833475]  0.0\n",
              "50        5.860802   [5.963523899641153, 5.981816812988123]  0.0\n",
              "60        7.358921   [7.487897777198806, 7.510866097945217]  0.0\n",
              "Combined  6.870332    [6.99074650791682, 7.012190016464985]  0.0"
            ],
            "text/html": [
              "\n",
              "  <div id=\"df-b0a7e7b9-d478-4268-b8fb-9724155cf963\">\n",
              "    <div class=\"colab-df-container\">\n",
              "      <div>\n",
              "<style scoped>\n",
              "    .dataframe tbody tr th:only-of-type {\n",
              "        vertical-align: middle;\n",
              "    }\n",
              "\n",
              "    .dataframe tbody tr th {\n",
              "        vertical-align: top;\n",
              "    }\n",
              "\n",
              "    .dataframe thead th {\n",
              "        text-align: right;\n",
              "    }\n",
              "</style>\n",
              "<table border=\"1\" class=\"dataframe\">\n",
              "  <thead>\n",
              "    <tr style=\"text-align: right;\">\n",
              "      <th></th>\n",
              "      <th>w</th>\n",
              "      <th>IC</th>\n",
              "      <th>o</th>\n",
              "    </tr>\n",
              "    <tr>\n",
              "      <th>l</th>\n",
              "      <th></th>\n",
              "      <th></th>\n",
              "      <th></th>\n",
              "    </tr>\n",
              "  </thead>\n",
              "  <tbody>\n",
              "    <tr>\n",
              "      <th>10</th>\n",
              "      <td>6.741844</td>\n",
              "      <td>[6.860006510023474, 6.881049047691177]</td>\n",
              "      <td>0.0</td>\n",
              "    </tr>\n",
              "    <tr>\n",
              "      <th>20</th>\n",
              "      <td>7.144141</td>\n",
              "      <td>[7.269353282522718, 7.291651351442124]</td>\n",
              "      <td>0.0</td>\n",
              "    </tr>\n",
              "    <tr>\n",
              "      <th>30</th>\n",
              "      <td>6.752101</td>\n",
              "      <td>[6.870443069934355, 6.8915176766594755]</td>\n",
              "      <td>0.0</td>\n",
              "    </tr>\n",
              "    <tr>\n",
              "      <th>40</th>\n",
              "      <td>7.408118</td>\n",
              "      <td>[7.537956931481135, 7.5610787808833475]</td>\n",
              "      <td>0.0</td>\n",
              "    </tr>\n",
              "    <tr>\n",
              "      <th>50</th>\n",
              "      <td>5.860802</td>\n",
              "      <td>[5.963523899641153, 5.981816812988123]</td>\n",
              "      <td>0.0</td>\n",
              "    </tr>\n",
              "    <tr>\n",
              "      <th>60</th>\n",
              "      <td>7.358921</td>\n",
              "      <td>[7.487897777198806, 7.510866097945217]</td>\n",
              "      <td>0.0</td>\n",
              "    </tr>\n",
              "    <tr>\n",
              "      <th>Combined</th>\n",
              "      <td>6.870332</td>\n",
              "      <td>[6.99074650791682, 7.012190016464985]</td>\n",
              "      <td>0.0</td>\n",
              "    </tr>\n",
              "  </tbody>\n",
              "</table>\n",
              "</div>\n",
              "      <button class=\"colab-df-convert\" onclick=\"convertToInteractive('df-b0a7e7b9-d478-4268-b8fb-9724155cf963')\"\n",
              "              title=\"Convert this dataframe to an interactive table.\"\n",
              "              style=\"display:none;\">\n",
              "        \n",
              "  <svg xmlns=\"http://www.w3.org/2000/svg\" height=\"24px\"viewBox=\"0 0 24 24\"\n",
              "       width=\"24px\">\n",
              "    <path d=\"M0 0h24v24H0V0z\" fill=\"none\"/>\n",
              "    <path d=\"M18.56 5.44l.94 2.06.94-2.06 2.06-.94-2.06-.94-.94-2.06-.94 2.06-2.06.94zm-11 1L8.5 8.5l.94-2.06 2.06-.94-2.06-.94L8.5 2.5l-.94 2.06-2.06.94zm10 10l.94 2.06.94-2.06 2.06-.94-2.06-.94-.94-2.06-.94 2.06-2.06.94z\"/><path d=\"M17.41 7.96l-1.37-1.37c-.4-.4-.92-.59-1.43-.59-.52 0-1.04.2-1.43.59L10.3 9.45l-7.72 7.72c-.78.78-.78 2.05 0 2.83L4 21.41c.39.39.9.59 1.41.59.51 0 1.02-.2 1.41-.59l7.78-7.78 2.81-2.81c.8-.78.8-2.07 0-2.86zM5.41 20L4 18.59l7.72-7.72 1.47 1.35L5.41 20z\"/>\n",
              "  </svg>\n",
              "      </button>\n",
              "      \n",
              "  <style>\n",
              "    .colab-df-container {\n",
              "      display:flex;\n",
              "      flex-wrap:wrap;\n",
              "      gap: 12px;\n",
              "    }\n",
              "\n",
              "    .colab-df-convert {\n",
              "      background-color: #E8F0FE;\n",
              "      border: none;\n",
              "      border-radius: 50%;\n",
              "      cursor: pointer;\n",
              "      display: none;\n",
              "      fill: #1967D2;\n",
              "      height: 32px;\n",
              "      padding: 0 0 0 0;\n",
              "      width: 32px;\n",
              "    }\n",
              "\n",
              "    .colab-df-convert:hover {\n",
              "      background-color: #E2EBFA;\n",
              "      box-shadow: 0px 1px 2px rgba(60, 64, 67, 0.3), 0px 1px 3px 1px rgba(60, 64, 67, 0.15);\n",
              "      fill: #174EA6;\n",
              "    }\n",
              "\n",
              "    [theme=dark] .colab-df-convert {\n",
              "      background-color: #3B4455;\n",
              "      fill: #D2E3FC;\n",
              "    }\n",
              "\n",
              "    [theme=dark] .colab-df-convert:hover {\n",
              "      background-color: #434B5C;\n",
              "      box-shadow: 0px 1px 3px 1px rgba(0, 0, 0, 0.15);\n",
              "      filter: drop-shadow(0px 1px 2px rgba(0, 0, 0, 0.3));\n",
              "      fill: #FFFFFF;\n",
              "    }\n",
              "  </style>\n",
              "\n",
              "      <script>\n",
              "        const buttonEl =\n",
              "          document.querySelector('#df-b0a7e7b9-d478-4268-b8fb-9724155cf963 button.colab-df-convert');\n",
              "        buttonEl.style.display =\n",
              "          google.colab.kernel.accessAllowed ? 'block' : 'none';\n",
              "\n",
              "        async function convertToInteractive(key) {\n",
              "          const element = document.querySelector('#df-b0a7e7b9-d478-4268-b8fb-9724155cf963');\n",
              "          const dataTable =\n",
              "            await google.colab.kernel.invokeFunction('convertToInteractive',\n",
              "                                                     [key], {});\n",
              "          if (!dataTable) return;\n",
              "\n",
              "          const docLinkHtml = 'Like what you see? Visit the ' +\n",
              "            '<a target=\"_blank\" href=https://colab.research.google.com/notebooks/data_table.ipynb>data table notebook</a>'\n",
              "            + ' to learn more about interactive tables.';\n",
              "          element.innerHTML = '';\n",
              "          dataTable['output_type'] = 'display_data';\n",
              "          await google.colab.output.renderOutput(dataTable, element);\n",
              "          const docLink = document.createElement('div');\n",
              "          docLink.innerHTML = docLinkHtml;\n",
              "          element.appendChild(docLink);\n",
              "        }\n",
              "      </script>\n",
              "    </div>\n",
              "  </div>\n",
              "  "
            ]
          },
          "metadata": {},
          "execution_count": 374
        }
      ]
    },
    {
      "cell_type": "code",
      "source": [
        "la = [10,20,30,40,50,60]\n",
        "\n",
        "plt.axhline(mejores_estimadores[-1], linestyle = 'dashed', color = 'r', label=\"Día Solar\")\n",
        "\n",
        "for i in range(len(la)):\n",
        "  ax = plt.errorbar(la[i], mejores_estimadores[i], linestyle=\"None\", yerr = sds[i], fmt=\"ob\", capsize=7, ecolor=\"k\")\n",
        "plt.errorbar(70, np.sum(mejores_estimadores)/len(mejores_estimadores), linestyle=\"None\", yerr = np.sum(sds)/len(sds), fmt=\"ob\", capsize=7, ecolor=\"k\", label = \"Estimación\")\n",
        "plt.xticks(la + [70],[\"10\", \"20\", \"30\", \"40\", \"50\", \"60\", \"Combined\"])\n",
        "plt.legend()\n",
        "plt.show()\n",
        "print(intervalos_confianza)"
      ],
      "metadata": {
        "colab": {
          "base_uri": "https://localhost:8080/",
          "height": 467
        },
        "id": "KLaHQjdKj6fP",
        "outputId": "ce56ff90-35f0-4d88-993a-c80072c8e157"
      },
      "execution_count": null,
      "outputs": [
        {
          "output_type": "display_data",
          "data": {
            "text/plain": [
              "<Figure size 640x480 with 1 Axes>"
            ],
            "image/png": "[encoded data removed]"
          },
          "metadata": {}
        },
        {
          "output_type": "stream",
          "name": "stdout",
          "text": [
            "[[6.860006510023474, 6.881049047691177], [7.269353282522718, 7.291651351442124], [6.870443069934355, 6.8915176766594755], [7.537956931481135, 7.5610787808833475], [5.963523899641153, 5.981816812988123], [7.487897777198806, 7.510866097945217], [6.99074650791682, 7.012190016464985]]\n"
          ]
        }
      ]
    },
    {
      "cell_type": "code",
      "source": [
        "la = [10,20,30,40,50,60]\n",
        "\n",
        "plt.axhline(mejores_estimadores[-1], linestyle = 'dashed', color = 'r', label=\"Día Solar\")\n",
        "\n",
        "for i in range(len(la)):\n",
        "  ax = plt.errorbar(la[i], mejores_estimadores[i], linestyle=\"None\", yerr = sds[i], fmt=\"ob\", capsize=7, ecolor=\"k\")\n",
        "plt.errorbar(70, np.sum(mejores_estimadores)/len(mejores_estimadores), linestyle=\"None\", yerr = np.sum(sds)/len(sds), fmt=\"ob\", capsize=7, ecolor=\"k\", label = \"Estimación\")\n",
        "plt.xticks(la + [70],[\"10\", \"20\", \"30\", \"40\", \"50\", \"60\", \"Combined\"])\n",
        "plt.legend()\n",
        "plt.show()\n",
        "print(intervalos_confianza)"
      ],
      "metadata": {
        "id": "0d3TCSyPop__"
      },
      "execution_count": null,
      "outputs": []
    }
  ]
}