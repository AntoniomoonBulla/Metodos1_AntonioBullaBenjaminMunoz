{
  "cells": [
    {
      "cell_type": "code",
      "execution_count": null,
      "id": "9900e932",
      "metadata": {
        "id": "9900e932"
      },
      "outputs": [],
      "source": [
        "import numpy as np\n",
        "import matplotlib.pyplot as plt\n",
        "import pandas as pd\n",
        "import sympy as sym\n"
      ]
    },
    {
      "cell_type": "code",
      "execution_count": null,
      "id": "44371294",
      "metadata": {
        "id": "44371294"
      },
      "outputs": [],
      "source": [
        "x = sym.Symbol('x',real=True)"
      ]
    },
    {
      "cell_type": "code",
      "execution_count": null,
      "id": "57403f32",
      "metadata": {
        "id": "57403f32"
      },
      "outputs": [],
      "source": [
        "h = sym.Symbol('h',real=True)"
      ]
    },
    {
      "cell_type": "code",
      "execution_count": null,
      "id": "e41a41b4",
      "metadata": {
        "id": "e41a41b4"
      },
      "outputs": [],
      "source": [
        "X=[-2*h,-1*h,0*h,1*h,2*h]"
      ]
    },
    {
      "cell_type": "code",
      "source": [
        "p=2"
      ],
      "metadata": {
        "id": "Kl_h79PiCfFg"
      },
      "id": "Kl_h79PiCfFg",
      "execution_count": null,
      "outputs": []
    },
    {
      "cell_type": "code",
      "execution_count": null,
      "id": "b883ca2e",
      "metadata": {
        "id": "b883ca2e"
      },
      "outputs": [],
      "source": [
        "def Lagrange(x,xi,j):\n",
        "    \n",
        "    prod = 1\n",
        "    n = len(xi)\n",
        "    \n",
        "    for i in range(n):\n",
        "        if i != j:\n",
        "            prod *= (x - xi[i])/(xi[j]-xi[i])       \n",
        "    return prod\n"
      ]
    },
    {
      "cell_type": "code",
      "execution_count": null,
      "id": "041527b3",
      "metadata": {
        "id": "041527b3"
      },
      "outputs": [],
      "source": [
        "def GetCoefficients(x,p,X):\n",
        "    \n",
        "    Coefficients = []\n",
        "    \n",
        "    for i in range(len(X)):\n",
        "        Li = Lagrange(x,X,i)\n",
        "        dLi = sym.diff(Li,x,1)\n",
        "        C=dLi.subs(x,X[p])\n",
        "        Coefficients.append(C)\n",
        "    return Coefficients"
      ]
    }
  ],
  "metadata": {
    "kernelspec": {
      "display_name": "Python 3 (ipykernel)",
      "language": "python",
      "name": "python3"
    },
    "language_info": {
      "codemirror_mode": {
        "name": "ipython",
        "version": 3
      },
      "file_extension": ".py",
      "mimetype": "text/x-python",
      "name": "python",
      "nbconvert_exporter": "python",
      "pygments_lexer": "ipython3",
      "version": "3.9.13"
    },
    "colab": {
      "provenance": []
    }
  },
  "nbformat": 4,
  "nbformat_minor": 5
}