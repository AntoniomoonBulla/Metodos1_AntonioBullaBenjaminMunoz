{
 "cells": [
  {
   "cell_type": "code",
   "execution_count": 5,
   "id": "9900e932",
   "metadata": {},
   "outputs": [],
   "source": [
    "import numpy as np\n",
    "import matplotlib.pyplot as plt\n",
    "import pandas as pd\n",
    "import sympy as sym\n"
   ]
  },
  {
   "cell_type": "code",
   "execution_count": 9,
   "id": "44371294",
   "metadata": {},
   "outputs": [],
   "source": [
    "x = sym.Symbol('x',real=True)"
   ]
  },
  {
   "cell_type": "code",
   "execution_count": 8,
   "id": "57403f32",
   "metadata": {},
   "outputs": [],
   "source": [
    "h = sym.Symbol('h',real=True)"
   ]
  },
  {
   "cell_type": "code",
   "execution_count": 10,
   "id": "e41a41b4",
   "metadata": {},
   "outputs": [],
   "source": [
    "X=[-2*h,-1*h,0*h,1*h,2*h]"
   ]
  },
  {
   "cell_type": "code",
   "execution_count": 11,
   "id": "b883ca2e",
   "metadata": {},
   "outputs": [],
   "source": [
    "def Lagrange(x,xi,j):\n",
    "    \n",
    "    prod = 1\n",
    "    n = len(xi)\n",
    "    \n",
    "    for i in range(n):\n",
    "        if i != j:\n",
    "            prod *= (x - xi[i])/(xi[j]-xi[i])\n",
    "            \n",
    "    return prod"
   ]
  },
  {
   "cell_type": "code",
   "execution_count": 12,
   "id": "041527b3",
   "metadata": {},
   "outputs": [],
   "source": [
    "def GetCoefficients(x,p,X):\n",
    "    \n",
    "    Coefficients = []\n",
    "    \n",
    "    for i in range(len(X)):\n",
    "        Li = Lagrange(x,X,i)\n",
    "        dLi = sym.diff(Li,x,1)"
   ]
  },
  {
   "cell_type": "code",
   "execution_count": null,
   "id": "1e007228",
   "metadata": {},
   "outputs": [],
   "source": []
  }
 ],
 "metadata": {
  "kernelspec": {
   "display_name": "Python 3 (ipykernel)",
   "language": "python",
   "name": "python3"
  },
  "language_info": {
   "codemirror_mode": {
    "name": "ipython",
    "version": 3
   },
   "file_extension": ".py",
   "mimetype": "text/x-python",
   "name": "python",
   "nbconvert_exporter": "python",
   "pygments_lexer": "ipython3",
   "version": "3.9.13"
  }
 },
 "nbformat": 4,
 "nbformat_minor": 5
}
