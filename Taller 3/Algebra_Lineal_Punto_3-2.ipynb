{
  "nbformat": 4,
  "nbformat_minor": 0,
  "metadata": {
    "colab": {
      "provenance": []
    },
    "kernelspec": {
      "name": "python3",
      "display_name": "Python 3"
    },
    "language_info": {
      "name": "python"
    }
  },
  "cells": [
    {
      "cell_type": "code",
      "execution_count": null,
      "metadata": {
        "id": "1YyQ14A-O0zn"
      },
      "outputs": [],
      "source": [
        "import numpy as np"
      ]
    },
    {
      "cell_type": "code",
      "source": [
        "def multiplicacion_matrices(A,B):\n",
        "\n",
        "  C=[]\n",
        "  n=len(A[0])\n",
        "  m=len(A)\n",
        "  o=len(B)\n",
        "  for i in range (0,m):\n",
        "    C.append([])\n",
        "    for k in range(0,n):\n",
        "      c=0\n",
        "      for j in range(0,o):\n",
        "        c+=A[i][j]*B[j][k]\n",
        "      C[i].append(c)\n",
        "\n",
        "  return C"
      ],
      "metadata": {
        "id": "rI3yUZMMRWGf"
      },
      "execution_count": null,
      "outputs": []
    },
    {
      "cell_type": "code",
      "source": [
        "A=np.array([[1,0,0],[5,1,0],[-2,3,1]])\n",
        "B=np.array([[4,-2,1],[0,3,7],[0,0,2]])"
      ],
      "metadata": {
        "id": "aQIz7bRzRYs3"
      },
      "execution_count": null,
      "outputs": []
    },
    {
      "cell_type": "code",
      "source": [
        "AB=multiplicacion_matrices(A,B)\n",
        "AB"
      ],
      "metadata": {
        "colab": {
          "base_uri": "https://localhost:8080/"
        },
        "id": "5aQy723qR7eU",
        "outputId": "5757ac30-d86c-4762-ff56-d57815299ac5"
      },
      "execution_count": null,
      "outputs": [
        {
          "output_type": "execute_result",
          "data": {
            "text/plain": [
              "[[4, -2, 1], [20, -7, 12], [-8, 13, 21]]"
            ]
          },
          "metadata": {},
          "execution_count": 45
        }
      ]
    }
  ]
}