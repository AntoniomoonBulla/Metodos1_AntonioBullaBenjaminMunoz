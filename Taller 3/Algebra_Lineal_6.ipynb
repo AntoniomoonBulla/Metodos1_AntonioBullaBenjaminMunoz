{
  "nbformat": 4,
  "nbformat_minor": 0,
  "metadata": {
    "colab": {
      "provenance": []
    },
    "kernelspec": {
      "name": "python3",
      "display_name": "Python 3"
    },
    "language_info": {
      "name": "python"
    }
  },
  "cells": [
    {
      "cell_type": "code",
      "source": [
        "import numpy as np\n",
        "\n",
        "A = np.array([[3,-1,-1],[-1.,3.,1.],[2,1,4]])\n",
        "b = np.array([1.,3.,7.])\n",
        "x0 = np.zeros(3)\n",
        "w = 1.5\n",
        "\n",
        "\n",
        "def SOR_method(A,b,x0,w,itmax=1000,tolerancia= 1e-9):\n",
        "    \n",
        "    x = x0.copy()\n",
        "\n",
        "    for it in range(itmax):\n",
        "        xn = np.zeros_like(x0)\n",
        "        for i in range(A.shape[0]):\n",
        "            sigma1 = 0.\n",
        "            sigma2 = 0.\n",
        "            for j in range(i):\n",
        "                sigma1 += A[i, j] * x[j]\n",
        "            for j in range(i+1, A.shape[1]):\n",
        "                sigma2 += A[i, j] * x[j]\n",
        "            xn[i] = (1-w)*x[i] + (w*(b[i] - sigma1 - sigma2)/A[i,i])\n",
        "  \n",
        "        \n",
        "        residuo = np.linalg.norm( np.dot(A,xn) - b )\n",
        "        x = xn.copy()\n",
        "        if np.allclose(residuo,tolerancia,atol=tolerancia):\n",
        "            break\n",
        "        \n",
        "    return x\n",
        "\n",
        "solucion = SOR_method(A,b,x0,w)\n",
        "\n",
        "solucion"
      ],
      "metadata": {
        "colab": {
          "base_uri": "https://localhost:8080/"
        },
        "id": "vD-6QI-sVrZ9",
        "outputId": "50dc0ab1-5048-444a-9f23-bbe92c6bb20e"
      },
      "execution_count": null,
      "outputs": [
        {
          "output_type": "execute_result",
          "data": {
            "text/plain": [
              "array([1., 1., 1.])"
            ]
          },
          "metadata": {},
          "execution_count": 33
        }
      ]
    }
  ]
}