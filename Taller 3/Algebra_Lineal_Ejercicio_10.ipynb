{
  "nbformat": 4,
  "nbformat_minor": 0,
  "metadata": {
    "colab": {
      "provenance": []
    },
    "kernelspec": {
      "name": "python3",
      "display_name": "Python 3"
    },
    "language_info": {
      "name": "python"
    }
  },
  "cells": [
    {
      "cell_type": "code",
      "execution_count": null,
      "metadata": {
        "id": "eUTas1StuHmr"
      },
      "outputs": [],
      "source": [
        "import numpy as np\n",
        "\n",
        "def EigValue(A,c=0,itmax=1000,tolerancia=1e-18):\n",
        "    \n",
        "    A_inv=np.linalg.inv(A)\n",
        "    n = A.shape[0]\n",
        "    x = np.zeros(n)\n",
        "    v0 = np.zeros(n)\n",
        "    \n",
        "    v0[c] = 1\n",
        "    lambda0 = np.inf\n",
        "    \n",
        "    for i in range(itmax):\n",
        "        \n",
        "        x = np.dot(A_inv,v0)\n",
        "        lambda_1=x[c]/v0[c]\n",
        "        x=x/np.linalg.norm(x)\n",
        "        if np.abs(lambda0 - lambda_1) <= tolerancia:\n",
        "            break\n",
        "        lambda0 = lambda_1\n",
        "        v0 = x            \n",
        "    return lambda_1,x"
      ]
    },
    {
      "cell_type": "code",
      "source": [
        "M=np.array([[1,2,-1],[1,0,1],[4,-4,5]])\n",
        "EigValue(M)"
      ],
      "metadata": {
        "colab": {
          "base_uri": "https://localhost:8080/"
        },
        "id": "xEz_c8NSxBbF",
        "outputId": "fc004979-62ef-4977-8098-c9cb22116b2f"
      },
      "execution_count": null,
      "outputs": [
        {
          "output_type": "execute_result",
          "data": {
            "text/plain": [
              "(0.9999999999999998, array([ 0.40824829, -0.40824829, -0.81649658]))"
            ]
          },
          "metadata": {},
          "execution_count": 20
        }
      ]
    }
  ]
}