{
  "nbformat": 4,
  "nbformat_minor": 0,
  "metadata": {
    "colab": {
      "provenance": []
    },
    "kernelspec": {
      "name": "python3",
      "display_name": "Python 3"
    },
    "language_info": {
      "name": "python"
    }
  },
  "cells": [
    {
      "cell_type": "code",
      "execution_count": null,
      "metadata": {
        "colab": {
          "base_uri": "https://localhost:8080/"
        },
        "id": "EjWpLtqtwLGb",
        "outputId": "c66398d9-357f-4361-a145-88964b72e9b7"
      },
      "outputs": [
        {
          "output_type": "execute_result",
          "data": {
            "text/plain": [
              "(array([6.89510652, 3.39729507, 1.70759841]),\n",
              " array([[ 0.43170413,  0.88573564,  0.17059871],\n",
              "        [ 0.49725362, -0.07589338, -0.86427949],\n",
              "        [ 0.75257583, -0.45794385,  0.47319874]]))"
            ]
          },
          "metadata": {},
          "execution_count": 14
        }
      ],
      "source": [
        "import numpy as np\n",
        "\n",
        "# a\n",
        "\n",
        "A = np.array([[4.,1.,1.],[1.,3.,2.],[1.,2.,5.]])\n",
        "\n",
        "def EigValue(A,c=0,itmax=1000,tolerancia=1e-18):\n",
        "    \n",
        "    n = A.shape[0]\n",
        "    v0 = np.zeros(n)\n",
        "    v0[c] = 1.    \n",
        "    lambda0 = np.inf \n",
        "    \n",
        "    for k in range(itmax):\n",
        "        \n",
        "        v1 = np.dot(A,v0)\n",
        "        lambda1 = v1[c]/v0[c]\n",
        "        v1 = v1/np.linalg.norm(v1)\n",
        "                    \n",
        "\n",
        "        if np.abs(lambda0 - lambda1) <= tolerancia:\n",
        "            break\n",
        "           \n",
        "        lambda0 = lambda1\n",
        "        v0 = v1\n",
        "                 \n",
        "\n",
        "    return lambda0,v0\n",
        "\n",
        "\n",
        "def Tensor(v):\n",
        "    \n",
        "    n = v.shape[0]\n",
        "    T = np.zeros((n,n))\n",
        "    \n",
        "    for i in range(n):\n",
        "        for j in range(n):\n",
        "            T[i,j] = v[i]*v[j]\n",
        "    \n",
        "    return T\n",
        "\n",
        "\n",
        "def GetEigValues(A):\n",
        "    \n",
        "    A1 = A.copy()\n",
        "    \n",
        "    values = np.zeros(A1.shape[0])\n",
        "    vectors = np.zeros_like(A1)\n",
        "    \n",
        "    for i in range(A.shape[0]):\n",
        "        \n",
        "        l,v = EigValue(A1,i) \n",
        "        \n",
        "        values[i] = l\n",
        "        vectors[:,i] = v* (-1)**i\n",
        "      \n",
        "        B = A1 - l*Tensor(v)\n",
        "        A1 = B\n",
        "        \n",
        "    return values,vectors\n",
        "\n",
        "R = GetEigValues(A)\n",
        "R"
      ]
    },
    {
      "cell_type": "code",
      "source": [
        "# b\n",
        "\n",
        "\n",
        "R_n = np.linalg.eig(A)\n",
        "R_n"
      ],
      "metadata": {
        "colab": {
          "base_uri": "https://localhost:8080/"
        },
        "id": "VPGQzIlG0Ai0",
        "outputId": "7d5d3412-13e9-49a6-8501-3a3429a2ec39"
      },
      "execution_count": null,
      "outputs": [
        {
          "output_type": "execute_result",
          "data": {
            "text/plain": [
              "(array([6.89510652, 3.39729507, 1.70759841]),\n",
              " array([[ 0.43170413,  0.88573564,  0.17059871],\n",
              "        [ 0.49725362, -0.07589338, -0.86427949],\n",
              "        [ 0.75257583, -0.45794385,  0.47319874]]))"
            ]
          },
          "metadata": {},
          "execution_count": 15
        }
      ]
    }
  ]
}